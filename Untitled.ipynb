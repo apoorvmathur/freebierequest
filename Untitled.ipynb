{
 "cells": [
  {
   "cell_type": "code",
   "execution_count": 1,
   "metadata": {},
   "outputs": [],
   "source": [
    "from project.api.tasks import tasks\n",
    "from project.api.methods import methods"
   ]
  },
  {
   "cell_type": "code",
   "execution_count": 6,
   "metadata": {},
   "outputs": [],
   "source": [
    "def getRequests(userId):\n",
    "        cursor = tasks.getDBCursor()\n",
    "        cursor.execute(\"SELECT userlevel FROM Freebie.Users where username = %(username)s\", {\"username\":userId})\n",
    "        user = cursor.fetchone()\n",
    "        print(user)\n",
    "        level = user[0]\n",
    "        if level == 1:\n",
    "            print(\"Level: 1\")\n",
    "            cursor.execute(\"\"\"select * from freebie.requests a \n",
    "                left join freebie.agents b\n",
    "                on a.agent_name = b.agent\n",
    "                where b.team_lead = %(username)s\"\"\", {\"username\":userId})\n",
    "        if level == 2:\n",
    "            print(\"Level: 2\")\n",
    "            cursor.execute(\"\"\"select * from freebie.requests a \n",
    "                left join freebie.agents b\n",
    "                on a.agent_name = b.agent\n",
    "                where b.manager = %(username)s\"\"\", {\"username\":userId})\n",
    "        if level == 3:\n",
    "            print(\"Level: 3\")\n",
    "            cursor.execute(\"select * from freebie.requests a\")\n",
    "        result = cursor.fetchall()\n",
    "        cursor.close()\n",
    "        json_result = methods.convertToJSON(result)\n",
    "        json_result = methods.getActions(level, json_result)\n",
    "        return json_result"
   ]
  },
  {
   "cell_type": "code",
   "execution_count": 7,
   "metadata": {},
   "outputs": [
    {
     "name": "stdout",
     "output_type": "stream",
     "text": [
      "(1,)\n",
      "Level: 1\n",
      "{'id': 1, 'agent_name': 'a1', 'category': 'Real Estate', 'account_phone': 7906518368, 'sales_date': datetime.date(2018, 6, 4), 'activation_date': datetime.date(2018, 6, 18), 'sales_amount': 1000, 'prev_sales': 10, 'discount_amount': 100, 'discount_percent': 10.0, 'alternate_number': '', 'discussion_details': 'Blah!', 'status': 'Pending', 'comment': None}\n",
      "{'id': 2, 'agent_name': 'a2', 'category': 'Real Estate', 'account_phone': 7906518368, 'sales_date': datetime.date(2018, 6, 12), 'activation_date': datetime.date(2018, 6, 29), 'sales_amount': 1200, 'prev_sales': 3000, 'discount_amount': 200, 'discount_percent': 16.666666666666668, 'alternate_number': '', 'discussion_details': 'Blah', 'status': 'Pending', 'comment': None}\n"
     ]
    },
    {
     "data": {
      "text/plain": [
       "[{'id': 1,\n",
       "  'agent_name': 'a1',\n",
       "  'category': 'Real Estate',\n",
       "  'account_phone': 7906518368,\n",
       "  'sales_date': datetime.date(2018, 6, 4),\n",
       "  'activation_date': datetime.date(2018, 6, 18),\n",
       "  'sales_amount': 1000,\n",
       "  'prev_sales': 10,\n",
       "  'discount_amount': 100,\n",
       "  'discount_percent': 10.0,\n",
       "  'alternate_number': '',\n",
       "  'discussion_details': 'Blah!',\n",
       "  'status': 'Pending',\n",
       "  'comment': None,\n",
       "  'action': True},\n",
       " {'id': 2,\n",
       "  'agent_name': 'a2',\n",
       "  'category': 'Real Estate',\n",
       "  'account_phone': 7906518368,\n",
       "  'sales_date': datetime.date(2018, 6, 12),\n",
       "  'activation_date': datetime.date(2018, 6, 29),\n",
       "  'sales_amount': 1200,\n",
       "  'prev_sales': 3000,\n",
       "  'discount_amount': 200,\n",
       "  'discount_percent': 16.666666666666668,\n",
       "  'alternate_number': '',\n",
       "  'discussion_details': 'Blah',\n",
       "  'status': 'Pending',\n",
       "  'comment': None,\n",
       "  'action': False}]"
      ]
     },
     "execution_count": 7,
     "metadata": {},
     "output_type": "execute_result"
    }
   ],
   "source": [
    "requests = getRequests(\"tl1\")\n",
    "requests"
   ]
  },
  {
   "cell_type": "code",
   "execution_count": 4,
   "metadata": {},
   "outputs": [],
   "source": [
    "def getAgents():\n",
    "    cursor = tasks.getDBCursor()\n",
    "    cursor.execute(\"SELECT agent FROM Freebie.Agents\")\n",
    "    agents = cursor.fetchall()\n",
    "    cursor.close()\n",
    "    agent_list = [i[0] for i in agents]\n",
    "    return agent_list;"
   ]
  },
  {
   "cell_type": "code",
   "execution_count": 5,
   "metadata": {},
   "outputs": [],
   "source": [
    "agents = getAgents()"
   ]
  },
  {
   "cell_type": "code",
   "execution_count": 6,
   "metadata": {},
   "outputs": [
    {
     "data": {
      "text/plain": [
       "['a1', 'a2', 'a3', 'a4', 'a5', 'a6', 'a7', 'a8', 'a9', 'a10']"
      ]
     },
     "execution_count": 6,
     "metadata": {},
     "output_type": "execute_result"
    }
   ],
   "source": [
    "agents"
   ]
  },
  {
   "cell_type": "code",
   "execution_count": 7,
   "metadata": {},
   "outputs": [],
   "source": [
    "def getActions(userlevel, results):\n",
    "    for result in results:\n",
    "        print(result)\n",
    "        if userlevel == 1 and result['discount_percent'] <= 15:\n",
    "            result['action'] = True\n",
    "        elif userlevel == 2 and result['discount_percent'] <= 25:\n",
    "            result['action'] = True\n",
    "        elif userlevel == 3:\n",
    "            result['action'] = True\n",
    "        else:\n",
    "            result['action'] = False\n",
    "    return results"
   ]
  },
  {
   "cell_type": "code",
   "execution_count": 8,
   "metadata": {},
   "outputs": [
    {
     "name": "stdout",
     "output_type": "stream",
     "text": [
      "{'id': 1, 'agent_name': 'a1', 'category': 'Real Estate', 'account_phone': 7906518368, 'sales_date': datetime.date(2018, 6, 4), 'activation_date': datetime.date(2018, 6, 18), 'sales_amount': 1000, 'prev_sales': 10, 'discount_amount': 100, 'discount_percent': 10.0, 'alternate_number': '', 'discussion_details': 'Blah!', 'status': 'Pending', 'comment': None}\n",
      "{'id': 2, 'agent_name': 'a2', 'category': 'Real Estate', 'account_phone': 7906518368, 'sales_date': datetime.date(2018, 6, 12), 'activation_date': datetime.date(2018, 6, 29), 'sales_amount': 1200, 'prev_sales': 3000, 'discount_amount': 200, 'discount_percent': 16.666666666666668, 'alternate_number': '', 'discussion_details': 'Blah', 'status': 'Pending', 'comment': None}\n"
     ]
    },
    {
     "data": {
      "text/plain": [
       "[{'id': 1,\n",
       "  'agent_name': 'a1',\n",
       "  'category': 'Real Estate',\n",
       "  'account_phone': 7906518368,\n",
       "  'sales_date': datetime.date(2018, 6, 4),\n",
       "  'activation_date': datetime.date(2018, 6, 18),\n",
       "  'sales_amount': 1000,\n",
       "  'prev_sales': 10,\n",
       "  'discount_amount': 100,\n",
       "  'discount_percent': 10.0,\n",
       "  'alternate_number': '',\n",
       "  'discussion_details': 'Blah!',\n",
       "  'status': 'Pending',\n",
       "  'comment': None,\n",
       "  'action': True},\n",
       " {'id': 2,\n",
       "  'agent_name': 'a2',\n",
       "  'category': 'Real Estate',\n",
       "  'account_phone': 7906518368,\n",
       "  'sales_date': datetime.date(2018, 6, 12),\n",
       "  'activation_date': datetime.date(2018, 6, 29),\n",
       "  'sales_amount': 1200,\n",
       "  'prev_sales': 3000,\n",
       "  'discount_amount': 200,\n",
       "  'discount_percent': 16.666666666666668,\n",
       "  'alternate_number': '',\n",
       "  'discussion_details': 'Blah',\n",
       "  'status': 'Pending',\n",
       "  'comment': None,\n",
       "  'action': False}]"
      ]
     },
     "execution_count": 8,
     "metadata": {},
     "output_type": "execute_result"
    }
   ],
   "source": [
    "getActions(1, requests)"
   ]
  },
  {
   "cell_type": "code",
   "execution_count": null,
   "metadata": {},
   "outputs": [],
   "source": []
  }
 ],
 "metadata": {
  "kernelspec": {
   "display_name": "Python 3",
   "language": "python",
   "name": "python3"
  },
  "language_info": {
   "codemirror_mode": {
    "name": "ipython",
    "version": 3
   },
   "file_extension": ".py",
   "mimetype": "text/x-python",
   "name": "python",
   "nbconvert_exporter": "python",
   "pygments_lexer": "ipython3",
   "version": "3.6.5"
  }
 },
 "nbformat": 4,
 "nbformat_minor": 2
}
