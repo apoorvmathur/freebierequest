{
 "cells": [
  {
   "cell_type": "code",
   "execution_count": 1,
   "metadata": {},
   "outputs": [],
   "source": [
    "from project.api.tasks import tasks\n",
    "from project.api.methods import methods"
   ]
  },
  {
   "cell_type": "code",
   "execution_count": 2,
   "metadata": {},
   "outputs": [],
   "source": [
    "def getRequests(userId):\n",
    "        cursor = tasks.getDBCursor()\n",
    "        cursor.execute(\"SELECT userlevel FROM Freebie.Users where username = %(username)s\", {\"username\":userId})\n",
    "        user = cursor.fetchone()\n",
    "        print(user)\n",
    "        level = user[0]\n",
    "        if level == 1:\n",
    "            print(\"Level: 1\")\n",
    "            cursor.execute(\"\"\"select * from freebie.requests a \n",
    "                left join freebie.agents b\n",
    "                on a.agent_name = b.agent\n",
    "                where b.team_lead = %(username)s\"\"\", {\"username\":userId})\n",
    "        if level == 2:\n",
    "            print(\"Level: 2\")\n",
    "            cursor.execute(\"\"\"select * from freebie.requests a \n",
    "                left join freebie.agents b\n",
    "                on a.agent_name = b.agent\n",
    "                where b.manager = %(username)s\"\"\", {\"username\":userId})\n",
    "        if level == 3:\n",
    "            print(\"Level: 3\")\n",
    "            cursor.execute(\"select * from freebie.requests a\")\n",
    "        result = cursor.fetchall()\n",
    "        cursor.close()\n",
    "        json_result = methods.convertToJSON(result)\n",
    "        json_result = methods.getActions(level, json_result)\n",
    "        return json_result"
   ]
  },
  {
   "cell_type": "code",
   "execution_count": 9,
   "metadata": {},
   "outputs": [
    {
     "name": "stdout",
     "output_type": "stream",
     "text": [
      "(1,)\n",
      "Level: 1\n"
     ]
    },
    {
     "data": {
      "text/plain": [
       "[]"
      ]
     },
     "execution_count": 9,
     "metadata": {},
     "output_type": "execute_result"
    }
   ],
   "source": [
    "requests = getRequests(\"tl1\")\n",
    "requests"
   ]
  },
  {
   "cell_type": "code",
   "execution_count": 10,
   "metadata": {},
   "outputs": [],
   "source": [
    "def getAgents():\n",
    "    cursor = tasks.getDBCursor()\n",
    "    cursor.execute(\"SELECT agent FROM Freebie.Agents\")\n",
    "    agents = cursor.fetchall()\n",
    "    cursor.close()\n",
    "    agent_list = [i[0] for i in agents]\n",
    "    return agent_list;"
   ]
  },
  {
   "cell_type": "code",
   "execution_count": 11,
   "metadata": {},
   "outputs": [],
   "source": [
    "agents = getAgents()"
   ]
  },
  {
   "cell_type": "code",
   "execution_count": 12,
   "metadata": {},
   "outputs": [
    {
     "data": {
      "text/plain": [
       "['a1', 'a2', 'a3', 'a4', 'a5', 'a6', 'a7', 'a8', 'a9', 'a10']"
      ]
     },
     "execution_count": 12,
     "metadata": {},
     "output_type": "execute_result"
    }
   ],
   "source": [
    "agents"
   ]
  },
  {
   "cell_type": "code",
   "execution_count": 13,
   "metadata": {},
   "outputs": [],
   "source": [
    "def getActions(userlevel, results):\n",
    "    for result in results:\n",
    "        print(result)\n",
    "        if userlevel == 1 and result['discount_percent'] <= 15:\n",
    "            result['action'] = True\n",
    "        elif userlevel == 2 and result['discount_percent'] <= 25:\n",
    "            result['action'] = True\n",
    "        elif userlevel == 3:\n",
    "            result['action'] = True\n",
    "        else:\n",
    "            result['action'] = False\n",
    "    return results"
   ]
  },
  {
   "cell_type": "code",
   "execution_count": 14,
   "metadata": {},
   "outputs": [
    {
     "data": {
      "text/plain": [
       "[]"
      ]
     },
     "execution_count": 14,
     "metadata": {},
     "output_type": "execute_result"
    }
   ],
   "source": [
    "getActions(1, requests)"
   ]
  },
  {
   "cell_type": "code",
   "execution_count": 40,
   "metadata": {},
   "outputs": [
    {
     "data": {
      "text/plain": [
       "'2018-06-20 10:09:32.634936'"
      ]
     },
     "execution_count": 40,
     "metadata": {},
     "output_type": "execute_result"
    }
   ],
   "source": [
    "str(datetime.now())"
   ]
  },
  {
   "cell_type": "code",
   "execution_count": 41,
   "metadata": {},
   "outputs": [
    {
     "data": {
      "text/plain": [
       "1.2"
      ]
     },
     "execution_count": 41,
     "metadata": {},
     "output_type": "execute_result"
    }
   ],
   "source": [
    "float(\"1.2\")"
   ]
  },
  {
   "cell_type": "code",
   "execution_count": 2,
   "metadata": {},
   "outputs": [
    {
     "data": {
      "text/plain": [
       "'d9176627cdd64b67cb2d6739c80f4a'"
      ]
     },
     "execution_count": 2,
     "metadata": {},
     "output_type": "execute_result"
    }
   ],
   "source": [
    "tasks.generateToken(\"tl1\")"
   ]
  },
  {
   "cell_type": "code",
   "execution_count": null,
   "metadata": {},
   "outputs": [],
   "source": []
  }
 ],
 "metadata": {
  "kernelspec": {
   "display_name": "Python 3",
   "language": "python",
   "name": "python3"
  },
  "language_info": {
   "codemirror_mode": {
    "name": "ipython",
    "version": 3
   },
   "file_extension": ".py",
   "mimetype": "text/x-python",
   "name": "python",
   "nbconvert_exporter": "python",
   "pygments_lexer": "ipython3",
   "version": "3.6.5"
  }
 },
 "nbformat": 4,
 "nbformat_minor": 2
}
