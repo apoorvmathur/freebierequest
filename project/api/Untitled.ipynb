{
 "cells": [
  {
   "cell_type": "code",
   "execution_count": 106,
   "metadata": {},
   "outputs": [],
   "source": [
    "import psycopg2 as ps2\n",
    "import random\n",
    "from decimal import Decimal"
   ]
  },
  {
   "cell_type": "code",
   "execution_count": 2,
   "metadata": {},
   "outputs": [],
   "source": [
    "connection = None\n",
    "\n",
    "def getDBCursor():\n",
    "    global connection\n",
    "    if (connection == None) or (connection.closed == 0):\n",
    "        connection = ps2.connect(dbname=\"testdb\", user=\"postgres\", password=\"apoorvmathur\", host=\"127.0.0.1\", port=5432)\n",
    "        connection.autocommit = True\n",
    "    cursor = connection.cursor()\n",
    "    return cursor"
   ]
  },
  {
   "cell_type": "code",
   "execution_count": 3,
   "metadata": {},
   "outputs": [],
   "source": [
    "def authenticate(user, password):\n",
    "    cursor = getDBCursor()\n",
    "    cursor.execute(\"SELECT * FROM freebie.Users WHERE username = %(username)s\", {\"username\":user})\n",
    "    result = cursor.fetchone()\n",
    "    cursor.close()\n",
    "    if result:\n",
    "        if result[1] == password:\n",
    "            return True\n",
    "    return False"
   ]
  },
  {
   "cell_type": "code",
   "execution_count": 10,
   "metadata": {},
   "outputs": [
    {
     "data": {
      "text/plain": [
       "True"
      ]
     },
     "execution_count": 10,
     "metadata": {},
     "output_type": "execute_result"
    }
   ],
   "source": [
    "authenticate(\"apoorvmathur\", \"apoorv\")"
   ]
  },
  {
   "cell_type": "code",
   "execution_count": 106,
   "metadata": {},
   "outputs": [],
   "source": [
    "import random"
   ]
  },
  {
   "cell_type": "code",
   "execution_count": 107,
   "metadata": {},
   "outputs": [
    {
     "data": {
      "text/plain": [
       "\"'%030x' % random.randrange(16**30)\""
      ]
     },
     "execution_count": 107,
     "metadata": {},
     "output_type": "execute_result"
    }
   ],
   "source": [
    "\"'%030x' % random.randrange(16**30)\""
   ]
  },
  {
   "cell_type": "code",
   "execution_count": 108,
   "metadata": {},
   "outputs": [
    {
     "name": "stdout",
     "output_type": "stream",
     "text": [
      "16497a66b56bed920213ccecd1febc\n"
     ]
    }
   ],
   "source": [
    "print('%030x' % random.randrange(16**30))"
   ]
  },
  {
   "cell_type": "code",
   "execution_count": 4,
   "metadata": {},
   "outputs": [],
   "source": [
    "def generateToken(user):\n",
    "    token = '%030x' % random.randrange(16**30)\n",
    "    cursor = getDBCursor()\n",
    "    cursor.execute(\"INSERT INTO freebie.sessions VALUES (%(token)s, %(username)s) ON CONFLICT (username) DO UPDATE SET token = Excluded.token\", \n",
    "                   {\"token\":token, \"username\":user})\n",
    "    return token"
   ]
  },
  {
   "cell_type": "code",
   "execution_count": 11,
   "metadata": {},
   "outputs": [
    {
     "data": {
      "text/plain": [
       "'ab7064057339f6a15ed5bb6b8b3b68'"
      ]
     },
     "execution_count": 11,
     "metadata": {},
     "output_type": "execute_result"
    }
   ],
   "source": [
    "generateToken(\"apoorvmathur\")"
   ]
  },
  {
   "cell_type": "code",
   "execution_count": 5,
   "metadata": {},
   "outputs": [],
   "source": [
    "def verify(user, token):\n",
    "    cursor = getDBCursor()\n",
    "    cursor.execute(\"SELECT * FROM freebie.Sessions where username = %(username)s\", {\"username\":user})\n",
    "    result = cursor.fetchone()\n",
    "    cursor.close()\n",
    "    if result:\n",
    "        if result[0] == token:\n",
    "            return True\n",
    "    return False"
   ]
  },
  {
   "cell_type": "code",
   "execution_count": 19,
   "metadata": {},
   "outputs": [
    {
     "data": {
      "text/plain": [
       "True"
      ]
     },
     "execution_count": 19,
     "metadata": {},
     "output_type": "execute_result"
    }
   ],
   "source": [
    "verify(\"apoorvmathur\", \"94a1e578dcc9604664de8d286427eb\")"
   ]
  },
  {
   "cell_type": "code",
   "execution_count": 6,
   "metadata": {},
   "outputs": [],
   "source": [
    "    def addRequest(requestData):\n",
    "        cursor = getDBCursor()\n",
    "        query = \"\"\"INSERT INTO freebie.Requests (agent_name,category,account_phone,sales_date,activation_date,sales_amount,\n",
    "        prev_sales,discount_amount,discount_percent,alternate_number,discussion_details,status)\n",
    "        VALUES (%(agent_name)s,%(category)s,%(account_phone)s,%(sales_date)s,%(activation_date)s,%(sales_amount)s,\n",
    "        %(prev_sales)s,%(discount_amount)s,%(discount_percent)s,%(alternate_number)s,%(discussion_details)s,%(status)s)\"\"\"\n",
    "        cursor.execute(query,requestData)\n",
    "        cursor.close()\n",
    "    "
   ]
  },
  {
   "cell_type": "code",
   "execution_count": 108,
   "metadata": {},
   "outputs": [],
   "source": [
    "request_data = {\n",
    "    \"agent_name\":\"Amol\",\n",
    "    \"category\":\"Real Estate\",\n",
    "    \"account_phone\":7906518368,\n",
    "    \"sales_date\":\"2018-06-11\",\n",
    "    \"activation_date\":\"2018-06-11\",\n",
    "    \"sales_amount\":10000,\n",
    "    \"prev_sales\":10000,\n",
    "    \"discount_amount\":10000,\n",
    "    \"discount_percent\":18.4,\n",
    "    \"alternate_number\":\"9458260880\",\n",
    "    \"discussion_details\":\"None\",\n",
    "    \"status\":\"Pending\"\n",
    "}"
   ]
  },
  {
   "cell_type": "code",
   "execution_count": 109,
   "metadata": {},
   "outputs": [],
   "source": [
    "addRequest(requestData=request_data)"
   ]
  },
  {
   "cell_type": "code",
   "execution_count": 60,
   "metadata": {},
   "outputs": [],
   "source": [
    "def updateRequest(requestId, status):\n",
    "    cursor = getDBCursor()\n",
    "    cursor.execute(\"UPDATE freebie.Requests SET status = %(status)s WHERE id = %(id)s\", {\"status\":status, \"id\":requestId})\n",
    "    cursor.close()"
   ]
  },
  {
   "cell_type": "code",
   "execution_count": 24,
   "metadata": {},
   "outputs": [],
   "source": [
    "updateRequest(4, \"Approved\")"
   ]
  },
  {
   "cell_type": "code",
   "execution_count": 101,
   "metadata": {},
   "outputs": [],
   "source": [
    "def getRequests(userId):\n",
    "    cursor = getDBCursor()\n",
    "    cursor.execute(\"SELECT userlevel FROM Freebie.Users where username = %(username)s\", {\"username\":userId})\n",
    "    user = cursor.fetchone()\n",
    "    print(user)\n",
    "    level = user[0]\n",
    "    if level == 1:\n",
    "        print(\"Level: 1\")\n",
    "        cursor.execute(\"\"\"select * from freebie.requests a \n",
    "            left join freebie.agents b\n",
    "            on a.agent_name = b.agent\n",
    "            where a.status = 'Pending'\n",
    "            and b.team_lead = %(username)s\n",
    "            and discount_percent <= %(discount)s\"\"\", {\"username\":userId, \"discount\":5})\n",
    "    if level == 2:\n",
    "        print(\"Level: 2\")\n",
    "        cursor.execute(\"\"\"select * from freebie.requests a \n",
    "            where a.status = 'Pending'\n",
    "            and a.discount_percent > %(discount_low)s\n",
    "            and a.discount_percent <= %(discount_high)s\"\"\", {\"discount_low\":5, \"discount_high\":10})\n",
    "    if level == 3:\n",
    "        print(\"Level: 3\")\n",
    "        cursor.execute(\"\"\"select * from freebie.requests a \n",
    "            where a.status = 'Pending'\n",
    "            and a.discount_percent > %(discount_low)s\n",
    "            and a.discount_percent <= %(discount_high)s\"\"\", {\"discount_low\":10, \"discount_high\":100})\n",
    "    result = cursor.fetchall()\n",
    "    cursor.close()\n",
    "    print(result)\n",
    "    json_result = convertToJSON(result)\n",
    "    return json_result"
   ]
  },
  {
   "cell_type": "code",
   "execution_count": 57,
   "metadata": {},
   "outputs": [],
   "source": [
    "cursor = getDBCursor()\n",
    "cursor.execute(\"\"\"select * from freebie.requests a \n",
    "    left join freebie.agents b\n",
    "    on a.agent_name = b.agent\n",
    "    where a.status = 'Pending'\n",
    "    and b.team_lead = %(username)s\n",
    "    and discount_percent <= %(discount)s;\"\"\", {\"username\":\"apoorv1\", \"discount\":5})\n"
   ]
  },
  {
   "cell_type": "code",
   "execution_count": 58,
   "metadata": {},
   "outputs": [],
   "source": [
    "result = cursor.fetchall()"
   ]
  },
  {
   "cell_type": "code",
   "execution_count": 43,
   "metadata": {},
   "outputs": [],
   "source": [
    "cursor.execute(\"SELECT userlevel FROM Freebie.Users where username = %(username)s\", {\"username\":\"apoorv\"})"
   ]
  },
  {
   "cell_type": "code",
   "execution_count": 44,
   "metadata": {},
   "outputs": [],
   "source": [
    "user = cursor.fetchone()"
   ]
  },
  {
   "cell_type": "code",
   "execution_count": 47,
   "metadata": {},
   "outputs": [],
   "source": [
    "level = user[0]"
   ]
  },
  {
   "cell_type": "code",
   "execution_count": 117,
   "metadata": {},
   "outputs": [
    {
     "name": "stdout",
     "output_type": "stream",
     "text": [
      "(3,)\n",
      "Level: 3\n",
      "[(1, 'jkhdah', 'Real Estate', 7127087, datetime.date(2018, 11, 11), datetime.date(2018, 11, 11), 973921, 9879, 98798, Decimal('10.144354624245704'), '', 'jkfgkasjddjfhkjs', 'Pending'), (2, 'apoorv', 'Real Estate', 7127087, datetime.date(2018, 11, 11), datetime.date(2018, 11, 11), 973921, 9879, 98798, Decimal('10.144354624245704'), '', 'jkfgkasjddjfhkjs', 'Pending')]\n"
     ]
    },
    {
     "data": {
      "text/plain": [
       "[{'account_phone': 7127087,\n",
       "  'activation_date': datetime.date(2018, 11, 11),\n",
       "  'agent_name': 'jkhdah',\n",
       "  'alternate_number': '',\n",
       "  'category': 'Real Estate',\n",
       "  'discount_amount': 98798,\n",
       "  'discount_percent': 10.144354624245704,\n",
       "  'discussion_details': 'jkfgkasjddjfhkjs',\n",
       "  'id': 1,\n",
       "  'prev_sales': 9879,\n",
       "  'sales_amount': 973921,\n",
       "  'sales_date': datetime.date(2018, 11, 11),\n",
       "  'status': 'Pending'},\n",
       " {'account_phone': 7127087,\n",
       "  'activation_date': datetime.date(2018, 11, 11),\n",
       "  'agent_name': 'apoorv',\n",
       "  'alternate_number': '',\n",
       "  'category': 'Real Estate',\n",
       "  'discount_amount': 98798,\n",
       "  'discount_percent': 10.144354624245704,\n",
       "  'discussion_details': 'jkfgkasjddjfhkjs',\n",
       "  'id': 2,\n",
       "  'prev_sales': 9879,\n",
       "  'sales_amount': 973921,\n",
       "  'sales_date': datetime.date(2018, 11, 11),\n",
       "  'status': 'Pending'}]"
      ]
     },
     "execution_count": 117,
     "metadata": {},
     "output_type": "execute_result"
    }
   ],
   "source": [
    "getRequests(\"apoorv2\")"
   ]
  },
  {
   "cell_type": "code",
   "execution_count": 113,
   "metadata": {},
   "outputs": [],
   "source": [
    "def convertToJSON(result_set):\n",
    "    outJSON = []\n",
    "    for result in result_set:\n",
    "        row = {\n",
    "            \"id\":result[0],\n",
    "            \"agent_name\":result[1],\n",
    "            \"category\":result[2],\n",
    "            \"account_phone\":result[3],\n",
    "            \"sales_date\":result[4],\n",
    "            \"activation_date\":result[5],\n",
    "            \"sales_amount\":result[6],\n",
    "            \"prev_sales\":result[7],\n",
    "            \"discount_amount\":result[8],\n",
    "            \"discount_percent\":float(result[9]),\n",
    "            \"alternate_number\":result[10],\n",
    "            \"discussion_details\":result[11],\n",
    "            \"status\":result[12]\n",
    "        }\n",
    "        outJSON.append(row)\n",
    "    return outJSON"
   ]
  },
  {
   "cell_type": "code",
   "execution_count": 95,
   "metadata": {},
   "outputs": [
    {
     "data": {
      "text/plain": [
       "[{'account_phone': 7906518368,\n",
       "  'activation_date': datetime.date(2018, 6, 11),\n",
       "  'agent_name': 'Amol',\n",
       "  'alternate_number': '9458260880',\n",
       "  'category': 'Real Estate',\n",
       "  'discount_amount': 10000,\n",
       "  'discount_percent': Decimal('18'),\n",
       "  'discussion_details': 'None',\n",
       "  'id': 15,\n",
       "  'prev_sales': 10000,\n",
       "  'sales_amount': 10000,\n",
       "  'sales_date': datetime.date(2018, 6, 11),\n",
       "  'status': 'Pending'}]"
      ]
     },
     "execution_count": 95,
     "metadata": {},
     "output_type": "execute_result"
    }
   ],
   "source": [
    "convertToJSON(temp)"
   ]
  },
  {
   "cell_type": "code",
   "execution_count": 112,
   "metadata": {},
   "outputs": [
    {
     "data": {
      "text/plain": [
       "5.18"
      ]
     },
     "execution_count": 112,
     "metadata": {},
     "output_type": "execute_result"
    }
   ],
   "source": [
    "float(Decimal('5.18'))"
   ]
  },
  {
   "cell_type": "code",
   "execution_count": null,
   "metadata": {},
   "outputs": [],
   "source": []
  }
 ],
 "metadata": {
  "kernelspec": {
   "display_name": "Python 3",
   "language": "python",
   "name": "python3"
  },
  "language_info": {
   "codemirror_mode": {
    "name": "ipython",
    "version": 3
   },
   "file_extension": ".py",
   "mimetype": "text/x-python",
   "name": "python",
   "nbconvert_exporter": "python",
   "pygments_lexer": "ipython3",
   "version": "3.5.2"
  }
 },
 "nbformat": 4,
 "nbformat_minor": 2
}
